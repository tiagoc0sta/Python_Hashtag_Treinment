{
 "cells": [
  {
   "cell_type": "markdown",
   "metadata": {},
   "source": [
    "# Exercícios\n",
    "\n",
    "São exercícios bem parecidos com os que fizemos com listas. Mas na tupla, podemos não só trabalhar com índices, mas fazer o \"unpacking\" das tuplas, o que pode facilitar nossos códigos.\n",
    "\n",
    "## 1. Análise de Vendas\n",
    "\n",
    "Nesse exercício vamos fazer uma \"análise simples\" de atingimento de Meta.\n",
    "\n",
    "Temos uma lista com os vendedores e os valores de vendas e queremos identificar (printar) quais os vendedores que bateram a meta e qual foi o valor que eles venderam."
   ]
  },
  {
   "cell_type": "code",
   "execution_count": 8,
   "metadata": {},
   "outputs": [
    {
     "name": "stdout",
     "output_type": "stream",
     "text": [
      "O vendedor João vendeu 15000 unidades\n",
      "O vendedor Julia vendeu 27000 unidades\n",
      "O vendedor Ana vendeu 10300 unidades\n"
     ]
    }
   ],
   "source": [
    "meta = 10000\n",
    "vendas = [\n",
    "    ('João', 15000),\n",
    "    ('Julia', 27000),\n",
    "    ('Marcus', 9900),\n",
    "    ('Maria', 3750),\n",
    "    ('Ana', 10300),\n",
    "    ('Alon', 7870),\n",
    "]\n",
    "\n",
    "\n",
    "for vendedor, quantidade in vendas:\n",
    "     if quantidade >= meta:\n",
    "            print(f'O vendedor {vendedor} vendeu {quantidade} unidades')"
   ]
  },
  {
   "cell_type": "markdown",
   "metadata": {},
   "source": [
    "## 2. Comparação com Ano Anterior\n",
    "\n",
    "Digamos que você está analisando as vendas de produtos de um ecommerce e quer identificar quais produtos tiveram no ano de 2020 mais vendas do que no ano de 2019, para reportar isso para a diretoria.\n",
    "\n",
    "Sua resposta pode ser um print de cada produto, qual foi a venda de 2019, a venda de 2020 e o % de crescimento de 2020 para 2019.\n",
    "\n",
    "Lembrando, para calcular o % de crescimento de um produto de um ano para o outro, podemos fazer: (vendas_produto2020/vendas_produto2019 - 1)\n",
    "\n",
    "A lógica da tupla é: (produto, vendas2019, vendas2020)"
   ]
  },
  {
   "cell_type": "code",
   "execution_count": 14,
   "metadata": {},
   "outputs": [
    {
     "name": "stdout",
     "output_type": "stream",
     "text": [
      "O produto iphone vendeu 558147 em 2019 e 951642 em 2020  e o % de crescimento 0.7050024455922903 de 2020 para 2019\n",
      "O produto tv vendeu 405252 em 2019 e 787604 em 2020  e o % de crescimento 0.9434919506874735 de 2020 para 2019\n",
      "O produto máquina de café vendeu 718654 em 2019 e 867660 em 2020  e o % de crescimento 0.20734038911632013 de 2020 para 2019\n",
      "O produto notebook dell vendeu 422760 em 2019 e 694913 em 2020  e o % de crescimento 0.6437529567603368 de 2020 para 2019\n",
      "O produto notebook hp vendeu 154753 em 2019 e 539704 em 2020  e o % de crescimento 2.487518820313661 de 2020 para 2019\n",
      "O produto microsoft surface vendeu 438508 em 2019 e 667179 em 2020  e o % de crescimento 0.5214750928147263 de 2020 para 2019\n",
      "O produto webcam vendeu 237467 em 2019 e 295633 em 2020  e o % de crescimento 0.2449435079400506 de 2020 para 2019\n",
      "O produto caixa de som vendeu 489705 em 2019 e 725316 em 2020  e o % de crescimento 0.4811284344656477 de 2020 para 2019\n",
      "O produto microfone vendeu 328311 em 2019 e 644622 em 2020  e o % de crescimento 0.963449290459351 de 2020 para 2019\n",
      "O produto câmera canon vendeu 591120 em 2019 e 994303 em 2020  e o % de crescimento 0.6820662471241035 de 2020 para 2019\n"
     ]
    }
   ],
   "source": [
    "vendas_produtos = [('iphone', 558147, 951642), ('galaxy', 712350, 244295), ('ipad', 573823, 26964), ('tv', 405252, 787604), ('máquina de café', 718654, 867660), ('kindle', 531580, 78830), ('geladeira', 973139, 710331), ('adega', 892292, 646016), ('notebook dell', 422760, 694913), ('notebook hp', 154753, 539704), ('notebook asus', 887061, 324831), ('microsoft surface', 438508, 667179), ('webcam', 237467, 295633), ('caixa de som', 489705, 725316), ('microfone', 328311, 644622), ('câmera canon', 591120, 994303)]\n",
    "\n",
    "#seu código aqui\n",
    "for produto, vendas2019, vendas2020 in vendas_produtos:\n",
    "    if vendas2020 > vendas2019:\n",
    "        crescimento = vendas\n",
    "        print(f'O produto {produto} vendeu {vendas2019} em 2019 e {vendas2020} em 2020  e o % de crescimento {vendas2020/vendas2019 - 1} de 2020 para 2019'  )\n"
   ]
  },
  {
   "cell_type": "code",
   "execution_count": null,
   "metadata": {},
   "outputs": [],
   "source": []
  }
 ],
 "metadata": {
  "kernelspec": {
   "display_name": "Python 3 (ipykernel)",
   "language": "python",
   "name": "python3"
  },
  "language_info": {
   "codemirror_mode": {
    "name": "ipython",
    "version": 3
   },
   "file_extension": ".py",
   "mimetype": "text/x-python",
   "name": "python",
   "nbconvert_exporter": "python",
   "pygments_lexer": "ipython3",
   "version": "3.10.9"
  }
 },
 "nbformat": 4,
 "nbformat_minor": 4
}
