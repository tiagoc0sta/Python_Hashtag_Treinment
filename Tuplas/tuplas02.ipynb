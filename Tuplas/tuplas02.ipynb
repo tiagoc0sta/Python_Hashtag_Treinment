{
 "cells": [
  {
   "cell_type": "code",
   "execution_count": 2,
   "id": "be631e22",
   "metadata": {},
   "outputs": [
    {
     "name": "stdout",
     "output_type": "stream",
     "text": [
      "('20/08/2020', 'iphone x', 'azul', '128gb', 350, 4000)\n",
      "('20/08/2020', 'iphone x', 'prata', '128gb', 1500, 4000)\n",
      "('20/08/2020', 'ipad', 'prata', '256gb', 127, 6000)\n",
      "('20/08/2020', 'ipad', 'prata', '128gb', 981, 5000)\n",
      "('21/08/2020', 'iphone x', 'azul', '128gb', 397, 4000)\n",
      "('21/08/2020', 'iphone x', 'prata', '128gb', 1017, 4000)\n",
      "('21/08/2020', 'ipad', 'prata', '256gb', 50, 6000)\n",
      "('21/08/2020', 'ipad', 'prata', '128gb', 4000, 5000)\n"
     ]
    }
   ],
   "source": [
    "vendas = [\n",
    "    ('20/08/2020', 'iphone x', 'azul', '128gb', 350, 4000),\n",
    "    ('20/08/2020', 'iphone x', 'prata', '128gb', 1500, 4000),\n",
    "    ('20/08/2020', 'ipad', 'prata', '256gb', 127, 6000),\n",
    "    ('20/08/2020', 'ipad', 'prata', '128gb', 981, 5000),\n",
    "    ('21/08/2020', 'iphone x', 'azul', '128gb', 397, 4000),\n",
    "    ('21/08/2020', 'iphone x', 'prata', '128gb', 1017, 4000),\n",
    "    ('21/08/2020', 'ipad', 'prata', '256gb', 50, 6000),\n",
    "    ('21/08/2020', 'ipad', 'prata', '128gb', 4000, 5000),\n",
    "]\n",
    "\n",
    "for item in vendas:\n",
    "    print(item)"
   ]
  },
  {
   "cell_type": "code",
   "execution_count": 8,
   "id": "d6fabf06",
   "metadata": {},
   "outputs": [
    {
     "name": "stdout",
     "output_type": "stream",
     "text": [
      "Meu produto mais vendido no dia 21/08/20 fio o ipad com 4000 unidades\n"
     ]
    }
   ],
   "source": [
    "produto_mais_vendido = ''\n",
    "qtde_produto_mais_vendido = 0\n",
    "for item in vendas:\n",
    "    data, produto, cor, capacidade, unidades, valor_unitario = item\n",
    "    if data == '21/08/2020':\n",
    "        if unidades > qtde_produto_mais_vendido:\n",
    "            produto_mais_vendido = produto\n",
    "            qtde_produto_mais_vendido = unidades\n",
    "            \n",
    "        \n",
    "print(f'Meu produto mais vendido no dia 21/08/20 foi o {produto_mais_vendido} com {qtde_produto_mais_vendido} unidades' )"
   ]
  },
  {
   "cell_type": "code",
   "execution_count": null,
   "id": "e565ab18",
   "metadata": {},
   "outputs": [],
   "source": []
  }
 ],
 "metadata": {
  "kernelspec": {
   "display_name": "Python 3 (ipykernel)",
   "language": "python",
   "name": "python3"
  },
  "language_info": {
   "codemirror_mode": {
    "name": "ipython",
    "version": 3
   },
   "file_extension": ".py",
   "mimetype": "text/x-python",
   "name": "python",
   "nbconvert_exporter": "python",
   "pygments_lexer": "ipython3",
   "version": "3.10.9"
  }
 },
 "nbformat": 4,
 "nbformat_minor": 5
}
