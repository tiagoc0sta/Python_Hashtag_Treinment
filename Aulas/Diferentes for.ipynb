{
 "cells": [
  {
   "cell_type": "code",
   "execution_count": 3,
   "id": "f384c181",
   "metadata": {},
   "outputs": [],
   "source": [
    "produtos = [\"iphone\", \"ipad\", \"airpod\", \"macbook\"]\n",
    "precos = [7000, 10000, 2500, 14000]"
   ]
  },
  {
   "cell_type": "markdown",
   "id": "ed0a699c",
   "metadata": {},
   "source": [
    "### For item in lista"
   ]
  },
  {
   "cell_type": "code",
   "execution_count": 4,
   "id": "3053355f",
   "metadata": {},
   "outputs": [
    {
     "name": "stdout",
     "output_type": "stream",
     "text": [
      "7000\n",
      "10000\n",
      "2500\n",
      "14000\n"
     ]
    }
   ],
   "source": [
    "# preco com imposto\n",
    "for preco in precos:\n",
    "    print(preco)"
   ]
  },
  {
   "cell_type": "markdown",
   "id": "80aa8d07",
   "metadata": {},
   "source": [
    "### For i in range"
   ]
  },
  {
   "cell_type": "code",
   "execution_count": 6,
   "id": "74b8e12d",
   "metadata": {},
   "outputs": [
    {
     "name": "stdout",
     "output_type": "stream",
     "text": [
      "iphone 7000\n",
      "ipad 10000\n",
      "airpod 2500\n",
      "macbook 14000\n"
     ]
    }
   ],
   "source": [
    "# preco de cada produto\n",
    "for i in range(len(precos)):\n",
    "    produto = produtos[i]\n",
    "    preco = precos[i]\n",
    "    print(produto, preco)"
   ]
  },
  {
   "cell_type": "markdown",
   "id": "ba0b37d3",
   "metadata": {},
   "source": [
    "### For item in lista com enumerate"
   ]
  },
  {
   "cell_type": "code",
   "execution_count": 10,
   "id": "38271545",
   "metadata": {},
   "outputs": [
    {
     "name": "stdout",
     "output_type": "stream",
     "text": [
      "iphone 7000\n",
      "ipad 10000\n",
      "airpod 2500\n",
      "macbook 14000\n"
     ]
    }
   ],
   "source": [
    "# preco de cada produto com imposto\n",
    "for i, preco in enumerate(precos):\n",
    "    produto = produtos[i]\n",
    "    print(produto, preco)"
   ]
  },
  {
   "cell_type": "code",
   "execution_count": null,
   "id": "e184cbc1",
   "metadata": {},
   "outputs": [],
   "source": []
  }
 ],
 "metadata": {
  "kernelspec": {
   "display_name": "Python 3 (ipykernel)",
   "language": "python",
   "name": "python3"
  },
  "language_info": {
   "codemirror_mode": {
    "name": "ipython",
    "version": 3
   },
   "file_extension": ".py",
   "mimetype": "text/x-python",
   "name": "python",
   "nbconvert_exporter": "python",
   "pygments_lexer": "ipython3",
   "version": "3.10.9"
  }
 },
 "nbformat": 4,
 "nbformat_minor": 5
}
