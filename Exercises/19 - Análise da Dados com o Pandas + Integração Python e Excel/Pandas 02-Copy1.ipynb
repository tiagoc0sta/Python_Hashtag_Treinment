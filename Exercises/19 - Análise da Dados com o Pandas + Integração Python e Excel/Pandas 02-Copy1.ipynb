{
 "cells": [
  {
   "cell_type": "markdown",
   "metadata": {
    "id": "6AOSoOohyqXn"
   },
   "source": [
    "# pandas e csv\n",
    "\n",
    "## Resumo\n",
    "\n",
    "Quase sempre quando formos \"ler\" um arquivo csv, vamos usar o pandas. É prático e bem eficiente.\n",
    "\n",
    "## Funcionamento"
   ]
  },
  {
   "cell_type": "raw",
   "metadata": {
    "id": "-XxbrPr0yqXp"
   },
   "source": [
    "Forma mais básica: (muitas vezes não usaremos a forma mais básica)\n",
    "dataframe = pd.read_csv(arquivo_com_extensao)"
   ]
  },
  {
   "cell_type": "markdown",
   "metadata": {
    "id": "ziYdVuL_yqXq"
   },
   "source": [
    "- Vamos ler um arquivo real, com a Base de Dados de Vendas da Empresa \"Contoso\""
   ]
  },
  {
   "cell_type": "code",
   "execution_count": 9,
   "metadata": {
    "id": "w2CcRzSGyqXq"
   },
   "outputs": [
    {
     "name": "stdout",
     "output_type": "stream",
     "text": [
      "<class 'pandas.core.frame.DataFrame'>\n",
      "RangeIndex: 980642 entries, 0 to 980641\n",
      "Data columns (total 10 columns):\n",
      " #   Column                Non-Null Count   Dtype \n",
      "---  ------                --------------   ----- \n",
      " 0   Numero da Venda       980642 non-null  int64 \n",
      " 1   Data da Venda         980642 non-null  object\n",
      " 2   Data do Envio         980642 non-null  object\n",
      " 3   ID Canal              980642 non-null  int64 \n",
      " 4   ID Loja               980642 non-null  int64 \n",
      " 5   ID Produto            980642 non-null  int64 \n",
      " 6   ID Promocao           980642 non-null  int64 \n",
      " 7   ID Cliente            980642 non-null  int64 \n",
      " 8   Quantidade Vendida    980642 non-null  int64 \n",
      " 9   Quantidade Devolvida  980642 non-null  int64 \n",
      "dtypes: int64(8), object(2)\n",
      "memory usage: 74.8+ MB\n"
     ]
    }
   ],
   "source": [
    "import pandas as pd\n",
    "\n",
    "vendas_df = pd.read_csv('Contoso - Vendas - 2017.csv', sep=';')\n",
    "\n",
    "vendas_df.info()\n",
    "\n",
    "\n"
   ]
  },
  {
   "cell_type": "code",
   "execution_count": null,
   "metadata": {},
   "outputs": [],
   "source": []
  }
 ],
 "metadata": {
  "colab": {
   "provenance": []
  },
  "kernelspec": {
   "display_name": "Python 3 (ipykernel)",
   "language": "python",
   "name": "python3"
  },
  "language_info": {
   "codemirror_mode": {
    "name": "ipython",
    "version": 3
   },
   "file_extension": ".py",
   "mimetype": "text/x-python",
   "name": "python",
   "nbconvert_exporter": "python",
   "pygments_lexer": "ipython3",
   "version": "3.10.9"
  }
 },
 "nbformat": 4,
 "nbformat_minor": 1
}
