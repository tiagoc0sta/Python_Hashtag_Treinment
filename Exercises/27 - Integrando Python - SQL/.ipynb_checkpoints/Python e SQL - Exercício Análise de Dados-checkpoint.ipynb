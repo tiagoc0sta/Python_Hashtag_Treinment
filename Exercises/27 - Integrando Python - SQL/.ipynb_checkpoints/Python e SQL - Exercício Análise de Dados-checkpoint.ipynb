{
 "cells": [
  {
   "cell_type": "markdown",
   "id": "b8daed95",
   "metadata": {
    "id": "b8daed95"
   },
   "source": [
    "## Exercício Desafio\n",
    "\n",
    "- Digamos que seu chefe pediu para você um relatório da análise dos salários da unidade de San Francisco da empresa. O objetivo dele é entender:\n",
    "\n",
    "1. Qual foi a evolução do salário médio ao longo dos anos (TotalPay e TotalPayBenefits)\n",
    "2. Quantos funcionários tivemos ao longo dos anos\n",
    "3. Qual foi a evolução do total gasto com salário ao longo dos anos (TotalPayBenefits)\n",
    "\n",
    "- Base de Dados a ser usada: salarios.sqlite"
   ]
  },
  {
   "cell_type": "markdown",
   "id": "f532539d",
   "metadata": {
    "id": "f532539d"
   },
   "source": [
    "### Importação da Base de Dados"
   ]
  },
  {
   "cell_type": "code",
   "execution_count": null,
   "id": "195d34e1",
   "metadata": {
    "id": "195d34e1"
   },
   "outputs": [],
   "source": []
  },
  {
   "cell_type": "markdown",
   "id": "611c5a65",
   "metadata": {
    "id": "611c5a65"
   },
   "source": [
    "### Análise de Dados"
   ]
  },
  {
   "cell_type": "code",
   "execution_count": null,
   "id": "57fcbaef",
   "metadata": {
    "id": "57fcbaef"
   },
   "outputs": [],
   "source": [
    "# garantindo que estamos só com San Francisco"
   ]
  },
  {
   "cell_type": "markdown",
   "id": "7f022731",
   "metadata": {
    "id": "7f022731"
   },
   "source": [
    "##### 1. Qual foi a evolução do salário médio ao longo dos anos"
   ]
  },
  {
   "cell_type": "code",
   "execution_count": null,
   "id": "f92a59ab",
   "metadata": {
    "id": "f92a59ab"
   },
   "outputs": [],
   "source": []
  },
  {
   "cell_type": "markdown",
   "id": "b5b8a6ca",
   "metadata": {
    "id": "b5b8a6ca"
   },
   "source": [
    "##### 2. Quantos funcionários tivemos ao longo dos anos"
   ]
  },
  {
   "cell_type": "code",
   "execution_count": null,
   "id": "32d05257",
   "metadata": {
    "id": "32d05257"
   },
   "outputs": [],
   "source": []
  },
  {
   "cell_type": "markdown",
   "id": "8b87ce08",
   "metadata": {
    "id": "8b87ce08"
   },
   "source": [
    "##### 3. Qual foi a evolução do total gasto com salário ao longo dos anos"
   ]
  },
  {
   "cell_type": "code",
   "execution_count": null,
   "id": "365c4247",
   "metadata": {
    "id": "365c4247"
   },
   "outputs": [],
   "source": []
  },
  {
   "cell_type": "code",
   "execution_count": null,
   "id": "26be644e",
   "metadata": {
    "id": "26be644e"
   },
   "outputs": [],
   "source": []
  }
 ],
 "metadata": {
  "colab": {
   "provenance": []
  },
  "kernelspec": {
   "display_name": "Python 3 (ipykernel)",
   "language": "python",
   "name": "python3"
  },
  "language_info": {
   "codemirror_mode": {
    "name": "ipython",
    "version": 3
   },
   "file_extension": ".py",
   "mimetype": "text/x-python",
   "name": "python",
   "nbconvert_exporter": "python",
   "pygments_lexer": "ipython3",
   "version": "3.10.9"
  }
 },
 "nbformat": 4,
 "nbformat_minor": 5
}
