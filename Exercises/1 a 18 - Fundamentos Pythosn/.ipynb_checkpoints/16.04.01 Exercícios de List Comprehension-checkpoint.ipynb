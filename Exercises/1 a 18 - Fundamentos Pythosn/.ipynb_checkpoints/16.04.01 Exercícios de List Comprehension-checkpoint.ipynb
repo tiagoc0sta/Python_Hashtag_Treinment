{
 "cells": [
  {
   "cell_type": "markdown",
   "metadata": {
    "id": "_hqX4qRpTXRw"
   },
   "source": [
    "# Exercícios\n",
    "\n",
    "## 1. Tamanho do Pedido de Compras\n",
    "\n",
    "Nesse exercício vamos avaliar o estoque de uma empresa. Vamos considerar que todos os produtos dessa empresa são comprados em lotes de 500 unidades.\n",
    "\n",
    "- Caso o estoque esteja abaixo de 1000 unidades, devemos fazer um pedido de 500 unidades.\n",
    "- Caso o estoque esteja abaixo de 200 unidades, devemos fazer um pedido de 1000 unidades.\n",
    "\n",
    "Defina o valor a ser pedido de cada produto para enviar ao time de compras."
   ]
  },
  {
   "cell_type": "code",
   "execution_count": 1,
   "metadata": {
    "id": "yjccxaBZTXRy"
   },
   "outputs": [
    {
     "name": "stdout",
     "output_type": "stream",
     "text": [
      "BSA2199 396\n",
      "PPF5239 251\n",
      "BSA1212 989\n",
      "PPF2154 449\n",
      "BEB3410 241\n",
      "PPF8999 527\n",
      "EMB9591 601\n",
      "BSA2006 314\n",
      "EMB3604 469\n",
      "EMB2070 733\n",
      "PPF9018 339\n",
      "PPF1468 906\n",
      "BSA5819 291\n",
      "PPF8666 850\n",
      "BEB2983 353\n",
      "BEB5877 456\n",
      "PPF5008 963\n",
      "PPF3877 185\n",
      "PPF7321 163\n",
      "BSA8833 644\n",
      "PPF4980 421\n",
      "PPF3063 757\n",
      "BSA2089 271\n",
      "BSA8398 180\n",
      "EMB4622 515\n",
      "EMB9814 563\n",
      "PPF3784 229\n",
      "PPF2398 270\n",
      "BEB3211 181\n",
      "PPF8655 459\n",
      "PPF1874 799\n",
      "PPF8789 126\n",
      "PPF6324 375\n",
      "EMB9290 883\n",
      "BSA5516 555\n",
      "BSA8451 243\n",
      "BSA8213 423\n"
     ]
    }
   ],
   "source": [
    "estoque = [('BSA2199',396),('PPF5239',251),('BSA1212',989),('PPF2154',449),('BEB3410',241),('PPF8999',527),('EMB9591',601),('BSA2006',314),('EMB3604',469),('EMB2070',733),('PPF9018',339),('PPF1468',906),('BSA5819',291),('PPF8666',850),('BEB2983',353),('BEB5877',456),('PPF5008',963),('PPF3877',185),('PPF7321',163),('BSA8833',644),('PPF4980',421),('PPF3063',757),('BSA2089',271),('BSA8398',180),('EMB4622',515),('EMB9814',563),('PPF3784',229),('PPF2398',270),('BEB3211',181),('PPF8655',459),('PPF1874',799),('PPF8789',126),('PPF6324',375),('EMB9290',883),('BSA5516',555),('BSA8451',243),('BSA8213',423)]\n",
    "\n",
    "\n",
    "lista_pedido = []\n",
    "for produto, qtde in estoque:\n",
    "    if estoque\n",
    "    print(produto, qtde)\n",
    "    \n"
   ]
  },
  {
   "cell_type": "code",
   "execution_count": null,
   "metadata": {},
   "outputs": [],
   "source": []
  }
 ],
 "metadata": {
  "colab": {
   "collapsed_sections": [],
   "name": "16.04.01 Exercícios de List Comprehension.ipynb",
   "provenance": []
  },
  "kernelspec": {
   "display_name": "Python 3 (ipykernel)",
   "language": "python",
   "name": "python3"
  },
  "language_info": {
   "codemirror_mode": {
    "name": "ipython",
    "version": 3
   },
   "file_extension": ".py",
   "mimetype": "text/x-python",
   "name": "python",
   "nbconvert_exporter": "python",
   "pygments_lexer": "ipython3",
   "version": "3.10.9"
  }
 },
 "nbformat": 4,
 "nbformat_minor": 1
}
