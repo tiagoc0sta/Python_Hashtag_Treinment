{
 "cells": [
  {
   "cell_type": "code",
   "execution_count": 1,
   "id": "a6d07a36",
   "metadata": {},
   "outputs": [],
   "source": [
    "vendas = [\n",
    "    ('20/08/2020', 'iphone x', 'azul', '128gb', 350, 4000),\n",
    "    ('20/08/2020', 'iphone x', 'prata', '128gb', 1500, 4000),\n",
    "    ('20/08/2020', 'ipad', 'prata', '256gb', 127, 6000),\n",
    "    ('20/08/2020', 'ipad', 'prata', '128gb', 981, 5000),\n",
    "    ('21/08/2020', 'iphone x', 'azul', '128gb', 397, 4000),\n",
    "    ('21/08/2020', 'iphone x', 'prata', '128gb', 1017, 4000),\n",
    "    ('21/08/2020', 'ipad', 'prata', '256gb', 50, 6000),\n",
    "    ('21/08/2020', 'ipad', 'prata', '128gb', 4000, 5000),\n",
    "]"
   ]
  },
  {
   "cell_type": "markdown",
   "id": "ef6e1fb1",
   "metadata": {},
   "source": [
    "Qual foi o faturamento de IPhone no dia 20/08/2020?"
   ]
  },
  {
   "cell_type": "code",
   "execution_count": 10,
   "id": "43c1a19d",
   "metadata": {
    "scrolled": true
   },
   "outputs": [
    {
     "ename": "TypeError",
     "evalue": "'int' object is not iterable",
     "output_type": "error",
     "traceback": [
      "\u001b[1;31m---------------------------------------------------------------------------\u001b[0m",
      "\u001b[1;31mTypeError\u001b[0m                                 Traceback (most recent call last)",
      "Cell \u001b[1;32mIn[10], line 2\u001b[0m\n\u001b[0;32m      1\u001b[0m faturamento \u001b[38;5;241m=\u001b[39m \u001b[38;5;241m0\u001b[39m\n\u001b[1;32m----> 2\u001b[0m \u001b[38;5;28;01mfor\u001b[39;00m item \u001b[38;5;129;01min\u001b[39;00m vendas:\n\u001b[0;32m      3\u001b[0m     data, produto, cor, capacidade, unidades, valor_unitario \u001b[38;5;241m=\u001b[39m item\n\u001b[0;32m      4\u001b[0m     \u001b[38;5;28;01mif\u001b[39;00m produto \u001b[38;5;241m==\u001b[39m \u001b[38;5;124m'\u001b[39m\u001b[38;5;124miphone x\u001b[39m\u001b[38;5;124m'\u001b[39m \u001b[38;5;129;01mand\u001b[39;00m data \u001b[38;5;241m==\u001b[39m \u001b[38;5;124m'\u001b[39m\u001b[38;5;124m20/08/2020\u001b[39m\u001b[38;5;124m'\u001b[39m:\n",
      "\u001b[1;31mTypeError\u001b[0m: 'int' object is not iterable"
     ]
    }
   ],
   "source": [
    "faturamento = 0\n",
    "for item in vendas:\n",
    "    data, produto, cor, capacidade, unidades, valor_unitario = item\n",
    "    if produto == 'iphone x' and data == '20/08/2020':\n",
    "        print(produto)\n",
    "        faturamento += unidades * valor_unitario\n",
    "        \n",
    "print(faturamento)\n",
    "        \n"
   ]
  },
  {
   "cell_type": "markdown",
   "id": "a19849ed",
   "metadata": {},
   "source": [
    "Qual foi o produto mais vendido (em unidades) no dia 21/08/2020?"
   ]
  },
  {
   "cell_type": "code",
   "execution_count": 9,
   "id": "35f2ffb6",
   "metadata": {},
   "outputs": [
    {
     "ename": "TypeError",
     "evalue": "'int' object is not iterable",
     "output_type": "error",
     "traceback": [
      "\u001b[1;31m---------------------------------------------------------------------------\u001b[0m",
      "\u001b[1;31mTypeError\u001b[0m                                 Traceback (most recent call last)",
      "Cell \u001b[1;32mIn[9], line 1\u001b[0m\n\u001b[1;32m----> 1\u001b[0m \u001b[38;5;28;01mfor\u001b[39;00m item \u001b[38;5;129;01min\u001b[39;00m vendas:\n\u001b[0;32m      2\u001b[0m     \u001b[38;5;28mprint\u001b[39m(item)\n",
      "\u001b[1;31mTypeError\u001b[0m: 'int' object is not iterable"
     ]
    }
   ],
   "source": [
    "for item in vendas:\n",
    "    print(item)\n"
   ]
  }
 ],
 "metadata": {
  "kernelspec": {
   "display_name": "Python 3 (ipykernel)",
   "language": "python",
   "name": "python3"
  },
  "language_info": {
   "codemirror_mode": {
    "name": "ipython",
    "version": 3
   },
   "file_extension": ".py",
   "mimetype": "text/x-python",
   "name": "python",
   "nbconvert_exporter": "python",
   "pygments_lexer": "ipython3",
   "version": "3.10.9"
  }
 },
 "nbformat": 4,
 "nbformat_minor": 5
}
